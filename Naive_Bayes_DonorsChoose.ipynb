{
 "cells": [
  {
   "cell_type": "markdown",
   "metadata": {
    "id": "Dnubs-Nnb3cw"
   },
   "source": [
    "# Applying Multinomial Naive Bayes on DonorsChoose dataset"
   ]
  },
  {
   "cell_type": "code",
   "execution_count": 1,
   "metadata": {
    "id": "chpSjDaXm9KG"
   },
   "outputs": [],
   "source": [
    "import pandas as pd\n",
    "import numpy as np\n",
    "import matplotlib.pyplot as plt\n",
    "import seaborn as sns\n",
    "from sklearn.feature_extraction.text import TfidfVectorizer\n",
    "from sklearn.feature_extraction.text import CountVectorizer"
   ]
  },
  {
   "cell_type": "code",
   "execution_count": 4,
   "metadata": {
    "id": "dA1jknyqb3c_"
   },
   "outputs": [
    {
     "data": {
      "text/html": [
       "<div>\n",
       "<style scoped>\n",
       "    .dataframe tbody tr th:only-of-type {\n",
       "        vertical-align: middle;\n",
       "    }\n",
       "\n",
       "    .dataframe tbody tr th {\n",
       "        vertical-align: top;\n",
       "    }\n",
       "\n",
       "    .dataframe thead th {\n",
       "        text-align: right;\n",
       "    }\n",
       "</style>\n",
       "<table border=\"1\" class=\"dataframe\">\n",
       "  <thead>\n",
       "    <tr style=\"text-align: right;\">\n",
       "      <th></th>\n",
       "      <th>school_state</th>\n",
       "      <th>teacher_prefix</th>\n",
       "      <th>project_grade_category</th>\n",
       "      <th>teacher_number_of_previously_posted_projects</th>\n",
       "      <th>project_is_approved</th>\n",
       "      <th>clean_categories</th>\n",
       "      <th>clean_subcategories</th>\n",
       "      <th>essay</th>\n",
       "      <th>price</th>\n",
       "    </tr>\n",
       "  </thead>\n",
       "  <tbody>\n",
       "    <tr>\n",
       "      <th>0</th>\n",
       "      <td>ca</td>\n",
       "      <td>mrs</td>\n",
       "      <td>grades_prek_2</td>\n",
       "      <td>53</td>\n",
       "      <td>1</td>\n",
       "      <td>math_science</td>\n",
       "      <td>appliedsciences health_lifescience</td>\n",
       "      <td>i fortunate enough use fairy tale stem kits cl...</td>\n",
       "      <td>725.05</td>\n",
       "    </tr>\n",
       "    <tr>\n",
       "      <th>1</th>\n",
       "      <td>ut</td>\n",
       "      <td>ms</td>\n",
       "      <td>grades_3_5</td>\n",
       "      <td>4</td>\n",
       "      <td>1</td>\n",
       "      <td>specialneeds</td>\n",
       "      <td>specialneeds</td>\n",
       "      <td>imagine 8 9 years old you third grade classroo...</td>\n",
       "      <td>213.03</td>\n",
       "    </tr>\n",
       "    <tr>\n",
       "      <th>2</th>\n",
       "      <td>ca</td>\n",
       "      <td>mrs</td>\n",
       "      <td>grades_prek_2</td>\n",
       "      <td>10</td>\n",
       "      <td>1</td>\n",
       "      <td>literacy_language</td>\n",
       "      <td>literacy</td>\n",
       "      <td>having class 24 students comes diverse learner...</td>\n",
       "      <td>329.00</td>\n",
       "    </tr>\n",
       "    <tr>\n",
       "      <th>3</th>\n",
       "      <td>ga</td>\n",
       "      <td>mrs</td>\n",
       "      <td>grades_prek_2</td>\n",
       "      <td>2</td>\n",
       "      <td>1</td>\n",
       "      <td>appliedlearning</td>\n",
       "      <td>earlydevelopment</td>\n",
       "      <td>i recently read article giving students choice...</td>\n",
       "      <td>481.04</td>\n",
       "    </tr>\n",
       "    <tr>\n",
       "      <th>4</th>\n",
       "      <td>wa</td>\n",
       "      <td>mrs</td>\n",
       "      <td>grades_3_5</td>\n",
       "      <td>2</td>\n",
       "      <td>1</td>\n",
       "      <td>literacy_language</td>\n",
       "      <td>literacy</td>\n",
       "      <td>my students crave challenge eat obstacles brea...</td>\n",
       "      <td>17.74</td>\n",
       "    </tr>\n",
       "  </tbody>\n",
       "</table>\n",
       "</div>"
      ],
      "text/plain": [
       "  school_state teacher_prefix project_grade_category  \\\n",
       "0           ca            mrs          grades_prek_2   \n",
       "1           ut             ms             grades_3_5   \n",
       "2           ca            mrs          grades_prek_2   \n",
       "3           ga            mrs          grades_prek_2   \n",
       "4           wa            mrs             grades_3_5   \n",
       "\n",
       "   teacher_number_of_previously_posted_projects  project_is_approved  \\\n",
       "0                                            53                    1   \n",
       "1                                             4                    1   \n",
       "2                                            10                    1   \n",
       "3                                             2                    1   \n",
       "4                                             2                    1   \n",
       "\n",
       "    clean_categories                 clean_subcategories  \\\n",
       "0       math_science  appliedsciences health_lifescience   \n",
       "1       specialneeds                        specialneeds   \n",
       "2  literacy_language                            literacy   \n",
       "3    appliedlearning                    earlydevelopment   \n",
       "4  literacy_language                            literacy   \n",
       "\n",
       "                                               essay   price  \n",
       "0  i fortunate enough use fairy tale stem kits cl...  725.05  \n",
       "1  imagine 8 9 years old you third grade classroo...  213.03  \n",
       "2  having class 24 students comes diverse learner...  329.00  \n",
       "3  i recently read article giving students choice...  481.04  \n",
       "4  my students crave challenge eat obstacles brea...   17.74  "
      ]
     },
     "execution_count": 4,
     "metadata": {},
     "output_type": "execute_result"
    }
   ],
   "source": [
    "# Loading the data\n",
    "data = pd.read_csv('data.csv')\n",
    "data.head()"
   ]
  },
  {
   "cell_type": "code",
   "execution_count": 8,
   "metadata": {},
   "outputs": [
    {
     "name": "stdout",
     "output_type": "stream",
     "text": [
      "Index(['school_state', 'teacher_prefix', 'project_grade_category',\n",
      "       'teacher_number_of_previously_posted_projects', 'project_is_approved',\n",
      "       'clean_categories', 'clean_subcategories', 'essay', 'price'],\n",
      "      dtype='object')\n",
      "(109248, 9)\n"
     ]
    }
   ],
   "source": [
    "# Checking the columns and number of data points.\n",
    "print(data.columns)\n",
    "print(data.shape)"
   ]
  },
  {
   "cell_type": "code",
   "execution_count": 9,
   "metadata": {},
   "outputs": [],
   "source": [
    "# Droping the dependent varaible (project approval status) which needs to predicted.\n",
    "y=data['project_is_approved'].values\n",
    "X=data.drop(['project_is_approved'],axis=1)"
   ]
  },
  {
   "cell_type": "code",
   "execution_count": 10,
   "metadata": {
    "id": "i-PyprDNb3dI"
   },
   "outputs": [],
   "source": [
    "# Splitting the data\n",
    "from sklearn.model_selection import train_test_split\n",
    "X_train, X_test, y_train, y_test = train_test_split(X, y, test_size=0.2, stratify=y) "
   ]
  },
  {
   "cell_type": "code",
   "execution_count": 11,
   "metadata": {},
   "outputs": [
    {
     "name": "stdout",
     "output_type": "stream",
     "text": [
      "X Train: (87398, 8)\n",
      "X Test: (21850, 8)\n",
      "y Train: (87398,)\n",
      "X Test: (21850,)\n"
     ]
    }
   ],
   "source": [
    "print('X Train:',X_train.shape)\n",
    "print('X Test:',X_test.shape)\n",
    "print('y Train:',y_train.shape)\n",
    "print('X Test:',y_test.shape)"
   ]
  },
  {
   "cell_type": "markdown",
   "metadata": {},
   "source": [
    "# Bag of words approach"
   ]
  },
  {
   "cell_type": "markdown",
   "metadata": {
    "id": "EnZwVNULb3dO"
   },
   "source": [
    "Encoding the categorical feature 'essay' with Bag of words to make data ready for the model."
   ]
  },
  {
   "cell_type": "code",
   "execution_count": 12,
   "metadata": {
    "id": "-SczZKiab3dR"
   },
   "outputs": [
    {
     "name": "stdout",
     "output_type": "stream",
     "text": [
      "After vectorizations\n",
      "(87398, 15260) (87398,)\n",
      "(21850, 15260) (21850,)\n"
     ]
    }
   ],
   "source": [
    "# Applying CountVectorizer (a.k.a. bag of words) to extend the features via one hot encoding.\n",
    "features=[]\n",
    "vectorizer = CountVectorizer(min_df=10)\n",
    "vectorizer.fit(X_train['essay'].values)\n",
    "X_train_essay_bow = vectorizer.transform(X_train['essay'].values)\n",
    "X_test_essay_bow = vectorizer.transform(X_test['essay'].values)\n",
    "f=vectorizer.get_feature_names()\n",
    "features.extend(f)\n",
    "print(\"After vectorizations\")\n",
    "print(X_train_essay_bow.shape, y_train.shape)\n",
    "print(X_test_essay_bow.shape, y_test.shape)"
   ]
  },
  {
   "cell_type": "markdown",
   "metadata": {
    "id": "bGy86kgHb3dX"
   },
   "source": [
    "Encoding the other categorical featues with one hot encoding"
   ]
  },
  {
   "cell_type": "code",
   "execution_count": 13,
   "metadata": {
    "id": "EfXkofX1b3da"
   },
   "outputs": [
    {
     "name": "stdout",
     "output_type": "stream",
     "text": [
      "(87398, 51) (87398,)\n",
      "(21850, 51) (21850,)\n",
      "['ak', 'al', 'ar', 'az', 'ca', 'co', 'ct', 'dc', 'de', 'fl', 'ga', 'hi', 'ia', 'id', 'il', 'in', 'ks', 'ky', 'la', 'ma', 'md', 'me', 'mi', 'mn', 'mo', 'ms', 'mt', 'nc', 'nd', 'ne', 'nh', 'nj', 'nm', 'nv', 'ny', 'oh', 'ok', 'or', 'pa', 'ri', 'sc', 'sd', 'tn', 'tx', 'ut', 'va', 'vt', 'wa', 'wi', 'wv', 'wy']\n"
     ]
    }
   ],
   "source": [
    "# Encoding feature school_state.\n",
    "vectorizer = CountVectorizer()\n",
    "vectorizer.fit(X_train['school_state'].values)\n",
    "X_train_state_ohe = vectorizer.transform(X_train['school_state'].values)\n",
    "X_test_state_ohe = vectorizer.transform(X_test['school_state'].values)\n",
    "print(X_train_state_ohe.shape, y_train.shape)\n",
    "print(X_test_state_ohe.shape, y_test.shape)\n",
    "print(vectorizer.get_feature_names())\n",
    "f=vectorizer.get_feature_names()\n",
    "features.extend(f)"
   ]
  },
  {
   "cell_type": "code",
   "execution_count": 14,
   "metadata": {},
   "outputs": [
    {
     "name": "stdout",
     "output_type": "stream",
     "text": [
      "(87398, 5) (87398,)\n",
      "(21850, 5) (21850,)\n",
      "['dr', 'mr', 'mrs', 'ms', 'teacher']\n"
     ]
    }
   ],
   "source": [
    "# Encoding feature teacher_prefix.\n",
    "vectorizer = CountVectorizer()\n",
    "vectorizer.fit(X_train['teacher_prefix'].values)\n",
    "X_train_teacher_ohe = vectorizer.transform(X_train['teacher_prefix'].values)\n",
    "X_test_teacher_ohe = vectorizer.transform(X_test['teacher_prefix'].values)\n",
    "print(X_train_teacher_ohe.shape, y_train.shape)\n",
    "print(X_test_teacher_ohe.shape, y_test.shape)\n",
    "print(vectorizer.get_feature_names())\n",
    "f=vectorizer.get_feature_names()\n",
    "features.extend(f)"
   ]
  },
  {
   "cell_type": "code",
   "execution_count": 15,
   "metadata": {},
   "outputs": [
    {
     "name": "stdout",
     "output_type": "stream",
     "text": [
      "(87398, 4) (87398,)\n",
      "(21850, 4) (21850,)\n",
      "['grades_3_5', 'grades_6_8', 'grades_9_12', 'grades_prek_2']\n"
     ]
    }
   ],
   "source": [
    "# Encoding feature project_grade_category.\n",
    "vectorizer = CountVectorizer()\n",
    "vectorizer.fit(X_train['project_grade_category'].values)\n",
    "X_train_grade_ohe = vectorizer.transform(X_train['project_grade_category'].values)\n",
    "X_test_grade_ohe = vectorizer.transform(X_test['project_grade_category'].values)\n",
    "print(X_train_grade_ohe.shape, y_train.shape)\n",
    "print(X_test_grade_ohe.shape, y_test.shape)\n",
    "print(vectorizer.get_feature_names())\n",
    "f=vectorizer.get_feature_names()\n",
    "features.extend(f)"
   ]
  },
  {
   "cell_type": "code",
   "execution_count": 16,
   "metadata": {},
   "outputs": [
    {
     "name": "stdout",
     "output_type": "stream",
     "text": [
      "(87398, 9) (87398,)\n",
      "(21850, 9) (21850,)\n",
      "['appliedlearning', 'care_hunger', 'health_sports', 'history_civics', 'literacy_language', 'math_science', 'music_arts', 'specialneeds', 'warmth']\n"
     ]
    }
   ],
   "source": [
    "# Encoding feature clean_categories.\n",
    "vectorizer = CountVectorizer()#ngram_range=(1,2))\n",
    "vectorizer.fit(X_train['clean_categories'].values)\n",
    "X_train_category_ohe = vectorizer.transform(X_train['clean_categories'].values)\n",
    "X_test_category_ohe = vectorizer.transform(X_test['clean_categories'].values)\n",
    "print(X_train_category_ohe.shape, y_train.shape)\n",
    "print(X_test_category_ohe.shape, y_test.shape)\n",
    "print(vectorizer.get_feature_names())\n",
    "f=vectorizer.get_feature_names()\n",
    "features.extend(f)"
   ]
  },
  {
   "cell_type": "code",
   "execution_count": 17,
   "metadata": {
    "scrolled": false
   },
   "outputs": [
    {
     "name": "stdout",
     "output_type": "stream",
     "text": [
      "(87398, 30) (87398,)\n",
      "(21850, 30) (21850,)\n",
      "['appliedsciences', 'care_hunger', 'charactereducation', 'civics_government', 'college_careerprep', 'communityservice', 'earlydevelopment', 'economics', 'environmentalscience', 'esl', 'extracurricular', 'financialliteracy', 'foreignlanguages', 'gym_fitness', 'health_lifescience', 'health_wellness', 'history_geography', 'literacy', 'literature_writing', 'mathematics', 'music', 'nutritioneducation', 'other', 'parentinvolvement', 'performingarts', 'socialsciences', 'specialneeds', 'teamsports', 'visualarts', 'warmth']\n"
     ]
    }
   ],
   "source": [
    "# Encoding feature clean_subcategories.\n",
    "vectorizer = CountVectorizer(ngram_range=(1,1))\n",
    "vectorizer.fit(X_train['clean_subcategories'].values)\n",
    "#print(len(X_train['clean_subcategories'].unique()))\n",
    "X_train_subcategory_ohe = vectorizer.transform(X_train['clean_subcategories'].values)\n",
    "X_test_subcategory_ohe = vectorizer.transform(X_test['clean_subcategories'].values)\n",
    "print(X_train_subcategory_ohe.shape, y_train.shape)\n",
    "print(X_test_subcategory_ohe.shape, y_test.shape)\n",
    "print(vectorizer.get_feature_names())\n",
    "f=vectorizer.get_feature_names()\n",
    "features.extend(f)"
   ]
  },
  {
   "cell_type": "markdown",
   "metadata": {},
   "source": [
    "Normalizing the numerical features to get nuerical stability without losing information."
   ]
  },
  {
   "cell_type": "code",
   "execution_count": 18,
   "metadata": {},
   "outputs": [
    {
     "name": "stdout",
     "output_type": "stream",
     "text": [
      "(87398, 1) (87398,)\n",
      "(21850, 1) (21850,)\n"
     ]
    }
   ],
   "source": [
    "# Normalizing feature price.\n",
    "from sklearn.preprocessing import Normalizer\n",
    "norm = Normalizer()\n",
    "norm.fit(X_train['price'].values.reshape(1,-1))\n",
    "X_train_price_norm = norm.transform(X_train['price'].values.reshape(1,-1))\n",
    "X_test_price_norm = norm.transform(X_test['price'].values.reshape(1,-1))\n",
    "X_train_price_norm = X_train_price_norm.reshape(-1,1)\n",
    "X_test_price_norm = X_test_price_norm.reshape(-1,1)\n",
    "print(X_train_price_norm.shape, y_train.shape)\n",
    "print(X_test_price_norm.shape, y_test.shape)\n",
    "features.append('price')"
   ]
  },
  {
   "cell_type": "code",
   "execution_count": 19,
   "metadata": {
    "scrolled": true
   },
   "outputs": [
    {
     "name": "stdout",
     "output_type": "stream",
     "text": [
      "(87398, 1) (87398,)\n",
      "(21850, 1) (21850,)\n"
     ]
    }
   ],
   "source": [
    "# Normalizing feature teacher_number_of_previously_posted_projects.\n",
    "norm.fit(X_train['teacher_number_of_previously_posted_projects'].values.reshape(1,-1))\n",
    "X_train_teacherpostedproject_norm = norm.transform(X_train['teacher_number_of_previously_posted_projects'].values.reshape(1,-1))\n",
    "X_test_teacherpostedproject_norm = norm.transform(X_test['teacher_number_of_previously_posted_projects'].values.reshape(1,-1))\n",
    "X_train_teacherpostedproject_norm=X_train_teacherpostedproject_norm.reshape(-1,1)\n",
    "X_test_teacherpostedproject_norm=X_test_teacherpostedproject_norm.reshape(-1,1)\n",
    "print(X_train_teacherpostedproject_norm.shape, y_train.shape)\n",
    "print(X_test_teacherpostedproject_norm.shape, y_test.shape)\n",
    "features.append('teacher_number_of_previously_posted_projects')"
   ]
  },
  {
   "cell_type": "markdown",
   "metadata": {},
   "source": [
    "Combining all the above features into a final dataset in which our model will perform."
   ]
  },
  {
   "cell_type": "code",
   "execution_count": 20,
   "metadata": {
    "scrolled": true
   },
   "outputs": [
    {
     "name": "stdout",
     "output_type": "stream",
     "text": [
      "(87398, 15361) (87398,)\n",
      "(21850, 15361) (21850,)\n"
     ]
    }
   ],
   "source": [
    "# Using hstack from scipy to combine the features.\n",
    "# https://docs.scipy.org/doc/scipy/reference/generated/scipy.sparse.hstack.html\n",
    "from scipy.sparse import hstack\n",
    "X_tr = hstack((X_train_essay_bow, X_train_state_ohe, X_train_teacher_ohe, X_train_grade_ohe, X_train_category_ohe, X_train_subcategory_ohe, X_train_price_norm, X_train_teacherpostedproject_norm)).tocsr()\n",
    "X_te = hstack((X_test_essay_bow, X_test_state_ohe, X_test_teacher_ohe, X_test_grade_ohe, X_test_category_ohe, X_test_subcategory_ohe, X_test_price_norm, X_test_teacherpostedproject_norm)).tocsr()\n",
    "\n",
    "print(X_tr.shape, y_train.shape)\n",
    "print(X_te.shape, y_test.shape)"
   ]
  },
  {
   "cell_type": "markdown",
   "metadata": {
    "id": "yYHPYadYb3dh"
   },
   "source": [
    "## Applying Naive Bayes on the dataset created above."
   ]
  },
  {
   "cell_type": "code",
   "execution_count": 21,
   "metadata": {
    "scrolled": true
   },
   "outputs": [
    {
     "data": {
      "image/png": "[encoded data removed]",
      "text/plain": [
       "<Figure size 432x288 with 1 Axes>"
      ]
     },
     "metadata": {
      "needs_background": "light"
     },
     "output_type": "display_data"
    }
   ],
   "source": [
    "# Prior to fit the model we need to find out the best value for our hyperparameter alpha (Laplace Smoothing) \n",
    "# to avoid getting zero probability.\n",
    "from sklearn.naive_bayes import MultinomialNB\n",
    "from sklearn.model_selection import GridSearchCV\n",
    "\n",
    "model=MultinomialNB()\n",
    "\n",
    "# Assigning some values for our hyperparameter.\n",
    "para={'alpha':[0.00001,0.0005, 0.0001,0.005,0.001,0.05,0.01,0.1,0.5,1,5,10,50,100]}\n",
    "\n",
    "# Using GridSearchCv to find the best value of our hyperparameter.\n",
    "# https://scikit-learn.org/stable/modules/generated/sklearn.model_selection.GridSearchCV.html\n",
    "classifier=GridSearchCV(model, para, cv=5, scoring='roc_auc', return_train_score=True)\n",
    "classifier.fit(X_tr, y_train)\n",
    "\n",
    "# Putting the results of our cross-valication into a vairable.\n",
    "results = pd.DataFrame.from_dict(classifier.cv_results_)\n",
    "results = results.sort_values(['param_alpha'])\n",
    "\n",
    "train_auc= results['mean_train_score']\n",
    "cv_auc = results['mean_test_score'] \n",
    "alphas =  results['param_alpha']\n",
    "\n",
    "# Coverting the alpahs to smaller values (using log) to better undertand the graph. \n",
    "a_log=[]\n",
    "for i in alphas:\n",
    "    a_log.append(np.log(i))\n",
    "\n",
    "# Plotting the graph of Train score, cross validation score and alpha.\n",
    "plt.plot(a_log, train_auc, label='Train AUC')\n",
    "plt.plot(a_log, cv_auc, label='CV AUC')\n",
    "\n",
    "plt.scatter(a_log, train_auc, label='Train AUC points')\n",
    "plt.scatter(a_log, cv_auc, label='CV AUC points')\n",
    "\n",
    "\n",
    "plt.legend()\n",
    "plt.xlabel(\"Log alpha hyperparameter\")\n",
    "plt.ylabel(\"AUC\")\n",
    "plt.title(\"Hyper parameter Vs AUC plot\")\n",
    "plt.grid()\n",
    "plt.show()"
   ]
  },
  {
   "cell_type": "code",
   "execution_count": 23,
   "metadata": {
    "scrolled": true
   },
   "outputs": [
    {
     "data": {
      "text/html": [
       "<div>\n",
       "<style scoped>\n",
       "    .dataframe tbody tr th:only-of-type {\n",
       "        vertical-align: middle;\n",
       "    }\n",
       "\n",
       "    .dataframe tbody tr th {\n",
       "        vertical-align: top;\n",
       "    }\n",
       "\n",
       "    .dataframe thead th {\n",
       "        text-align: right;\n",
       "    }\n",
       "</style>\n",
       "<table border=\"1\" class=\"dataframe\">\n",
       "  <thead>\n",
       "    <tr style=\"text-align: right;\">\n",
       "      <th></th>\n",
       "      <th>mean_fit_time</th>\n",
       "      <th>std_fit_time</th>\n",
       "      <th>mean_score_time</th>\n",
       "      <th>std_score_time</th>\n",
       "      <th>param_alpha</th>\n",
       "      <th>params</th>\n",
       "      <th>split0_test_score</th>\n",
       "      <th>split1_test_score</th>\n",
       "      <th>split2_test_score</th>\n",
       "      <th>split3_test_score</th>\n",
       "      <th>...</th>\n",
       "      <th>mean_test_score</th>\n",
       "      <th>std_test_score</th>\n",
       "      <th>rank_test_score</th>\n",
       "      <th>split0_train_score</th>\n",
       "      <th>split1_train_score</th>\n",
       "      <th>split2_train_score</th>\n",
       "      <th>split3_train_score</th>\n",
       "      <th>split4_train_score</th>\n",
       "      <th>mean_train_score</th>\n",
       "      <th>std_train_score</th>\n",
       "    </tr>\n",
       "  </thead>\n",
       "  <tbody>\n",
       "    <tr>\n",
       "      <th>8</th>\n",
       "      <td>0.126429</td>\n",
       "      <td>0.007797</td>\n",
       "      <td>0.031245</td>\n",
       "      <td>0.000014</td>\n",
       "      <td>0.5</td>\n",
       "      <td>{'alpha': 0.5}</td>\n",
       "      <td>0.700466</td>\n",
       "      <td>0.699452</td>\n",
       "      <td>0.709574</td>\n",
       "      <td>0.705463</td>\n",
       "      <td>...</td>\n",
       "      <td>0.705027</td>\n",
       "      <td>0.004457</td>\n",
       "      <td>1</td>\n",
       "      <td>0.779223</td>\n",
       "      <td>0.780079</td>\n",
       "      <td>0.782180</td>\n",
       "      <td>0.779593</td>\n",
       "      <td>0.777597</td>\n",
       "      <td>0.779735</td>\n",
       "      <td>0.001480</td>\n",
       "    </tr>\n",
       "    <tr>\n",
       "      <th>7</th>\n",
       "      <td>0.118877</td>\n",
       "      <td>0.007759</td>\n",
       "      <td>0.031251</td>\n",
       "      <td>0.000014</td>\n",
       "      <td>0.1</td>\n",
       "      <td>{'alpha': 0.1}</td>\n",
       "      <td>0.697697</td>\n",
       "      <td>0.698539</td>\n",
       "      <td>0.708991</td>\n",
       "      <td>0.704112</td>\n",
       "      <td>...</td>\n",
       "      <td>0.704174</td>\n",
       "      <td>0.005496</td>\n",
       "      <td>2</td>\n",
       "      <td>0.790156</td>\n",
       "      <td>0.791022</td>\n",
       "      <td>0.793281</td>\n",
       "      <td>0.790824</td>\n",
       "      <td>0.788302</td>\n",
       "      <td>0.790717</td>\n",
       "      <td>0.001601</td>\n",
       "    </tr>\n",
       "    <tr>\n",
       "      <th>9</th>\n",
       "      <td>0.128821</td>\n",
       "      <td>0.010462</td>\n",
       "      <td>0.024048</td>\n",
       "      <td>0.010874</td>\n",
       "      <td>1</td>\n",
       "      <td>{'alpha': 1}</td>\n",
       "      <td>0.700090</td>\n",
       "      <td>0.697633</td>\n",
       "      <td>0.707614</td>\n",
       "      <td>0.703785</td>\n",
       "      <td>...</td>\n",
       "      <td>0.703269</td>\n",
       "      <td>0.003916</td>\n",
       "      <td>3</td>\n",
       "      <td>0.770995</td>\n",
       "      <td>0.771897</td>\n",
       "      <td>0.773797</td>\n",
       "      <td>0.771193</td>\n",
       "      <td>0.769428</td>\n",
       "      <td>0.771462</td>\n",
       "      <td>0.001419</td>\n",
       "    </tr>\n",
       "    <tr>\n",
       "      <th>5</th>\n",
       "      <td>0.134429</td>\n",
       "      <td>0.007697</td>\n",
       "      <td>0.021866</td>\n",
       "      <td>0.007660</td>\n",
       "      <td>0.05</td>\n",
       "      <td>{'alpha': 0.05}</td>\n",
       "      <td>0.695913</td>\n",
       "      <td>0.697210</td>\n",
       "      <td>0.707923</td>\n",
       "      <td>0.702627</td>\n",
       "      <td>...</td>\n",
       "      <td>0.702942</td>\n",
       "      <td>0.005877</td>\n",
       "      <td>4</td>\n",
       "      <td>0.793175</td>\n",
       "      <td>0.794050</td>\n",
       "      <td>0.796336</td>\n",
       "      <td>0.793930</td>\n",
       "      <td>0.791212</td>\n",
       "      <td>0.793741</td>\n",
       "      <td>0.001648</td>\n",
       "    </tr>\n",
       "    <tr>\n",
       "      <th>6</th>\n",
       "      <td>0.124997</td>\n",
       "      <td>0.009876</td>\n",
       "      <td>0.025003</td>\n",
       "      <td>0.007656</td>\n",
       "      <td>0.01</td>\n",
       "      <td>{'alpha': 0.01}</td>\n",
       "      <td>0.691462</td>\n",
       "      <td>0.693289</td>\n",
       "      <td>0.704539</td>\n",
       "      <td>0.698349</td>\n",
       "      <td>...</td>\n",
       "      <td>0.699284</td>\n",
       "      <td>0.006570</td>\n",
       "      <td>5</td>\n",
       "      <td>0.798333</td>\n",
       "      <td>0.799217</td>\n",
       "      <td>0.801521</td>\n",
       "      <td>0.799241</td>\n",
       "      <td>0.796173</td>\n",
       "      <td>0.798897</td>\n",
       "      <td>0.001723</td>\n",
       "    </tr>\n",
       "    <tr>\n",
       "      <th>3</th>\n",
       "      <td>0.126442</td>\n",
       "      <td>0.010301</td>\n",
       "      <td>0.025006</td>\n",
       "      <td>0.007659</td>\n",
       "      <td>0.005</td>\n",
       "      <td>{'alpha': 0.005}</td>\n",
       "      <td>0.689551</td>\n",
       "      <td>0.691430</td>\n",
       "      <td>0.702811</td>\n",
       "      <td>0.696348</td>\n",
       "      <td>...</td>\n",
       "      <td>0.697530</td>\n",
       "      <td>0.006778</td>\n",
       "      <td>6</td>\n",
       "      <td>0.800012</td>\n",
       "      <td>0.800898</td>\n",
       "      <td>0.803195</td>\n",
       "      <td>0.800972</td>\n",
       "      <td>0.797789</td>\n",
       "      <td>0.800573</td>\n",
       "      <td>0.001744</td>\n",
       "    </tr>\n",
       "    <tr>\n",
       "      <th>4</th>\n",
       "      <td>0.137483</td>\n",
       "      <td>0.006246</td>\n",
       "      <td>0.015625</td>\n",
       "      <td>0.000015</td>\n",
       "      <td>0.001</td>\n",
       "      <td>{'alpha': 0.001}</td>\n",
       "      <td>0.685284</td>\n",
       "      <td>0.687112</td>\n",
       "      <td>0.698434</td>\n",
       "      <td>0.691569</td>\n",
       "      <td>...</td>\n",
       "      <td>0.693304</td>\n",
       "      <td>0.007056</td>\n",
       "      <td>7</td>\n",
       "      <td>0.803033</td>\n",
       "      <td>0.803926</td>\n",
       "      <td>0.806189</td>\n",
       "      <td>0.804102</td>\n",
       "      <td>0.800711</td>\n",
       "      <td>0.803592</td>\n",
       "      <td>0.001773</td>\n",
       "    </tr>\n",
       "    <tr>\n",
       "      <th>1</th>\n",
       "      <td>0.128130</td>\n",
       "      <td>0.006251</td>\n",
       "      <td>0.024995</td>\n",
       "      <td>0.007658</td>\n",
       "      <td>0.0005</td>\n",
       "      <td>{'alpha': 0.0005}</td>\n",
       "      <td>0.683512</td>\n",
       "      <td>0.685344</td>\n",
       "      <td>0.696456</td>\n",
       "      <td>0.689573</td>\n",
       "      <td>...</td>\n",
       "      <td>0.691492</td>\n",
       "      <td>0.007108</td>\n",
       "      <td>8</td>\n",
       "      <td>0.804041</td>\n",
       "      <td>0.804938</td>\n",
       "      <td>0.807174</td>\n",
       "      <td>0.805145</td>\n",
       "      <td>0.801684</td>\n",
       "      <td>0.804597</td>\n",
       "      <td>0.001781</td>\n",
       "    </tr>\n",
       "    <tr>\n",
       "      <th>2</th>\n",
       "      <td>0.137487</td>\n",
       "      <td>0.015304</td>\n",
       "      <td>0.024995</td>\n",
       "      <td>0.007658</td>\n",
       "      <td>0.0001</td>\n",
       "      <td>{'alpha': 0.0001}</td>\n",
       "      <td>0.679748</td>\n",
       "      <td>0.681480</td>\n",
       "      <td>0.691959</td>\n",
       "      <td>0.685195</td>\n",
       "      <td>...</td>\n",
       "      <td>0.687468</td>\n",
       "      <td>0.007112</td>\n",
       "      <td>9</td>\n",
       "      <td>0.805851</td>\n",
       "      <td>0.806763</td>\n",
       "      <td>0.808935</td>\n",
       "      <td>0.807015</td>\n",
       "      <td>0.803448</td>\n",
       "      <td>0.806402</td>\n",
       "      <td>0.001786</td>\n",
       "    </tr>\n",
       "    <tr>\n",
       "      <th>10</th>\n",
       "      <td>0.136997</td>\n",
       "      <td>0.010926</td>\n",
       "      <td>0.019181</td>\n",
       "      <td>0.006090</td>\n",
       "      <td>5</td>\n",
       "      <td>{'alpha': 5}</td>\n",
       "      <td>0.685882</td>\n",
       "      <td>0.679202</td>\n",
       "      <td>0.687622</td>\n",
       "      <td>0.683757</td>\n",
       "      <td>...</td>\n",
       "      <td>0.684405</td>\n",
       "      <td>0.002876</td>\n",
       "      <td>10</td>\n",
       "      <td>0.731856</td>\n",
       "      <td>0.733581</td>\n",
       "      <td>0.734003</td>\n",
       "      <td>0.732364</td>\n",
       "      <td>0.730758</td>\n",
       "      <td>0.732513</td>\n",
       "      <td>0.001175</td>\n",
       "    </tr>\n",
       "    <tr>\n",
       "      <th>0</th>\n",
       "      <td>0.131924</td>\n",
       "      <td>0.021787</td>\n",
       "      <td>0.030399</td>\n",
       "      <td>0.010027</td>\n",
       "      <td>1e-05</td>\n",
       "      <td>{'alpha': 1e-05}</td>\n",
       "      <td>0.675058</td>\n",
       "      <td>0.676705</td>\n",
       "      <td>0.686166</td>\n",
       "      <td>0.680054</td>\n",
       "      <td>...</td>\n",
       "      <td>0.682444</td>\n",
       "      <td>0.007016</td>\n",
       "      <td>11</td>\n",
       "      <td>0.807510</td>\n",
       "      <td>0.808447</td>\n",
       "      <td>0.810528</td>\n",
       "      <td>0.808721</td>\n",
       "      <td>0.805067</td>\n",
       "      <td>0.808055</td>\n",
       "      <td>0.001785</td>\n",
       "    </tr>\n",
       "    <tr>\n",
       "      <th>11</th>\n",
       "      <td>0.125004</td>\n",
       "      <td>0.009888</td>\n",
       "      <td>0.034362</td>\n",
       "      <td>0.006246</td>\n",
       "      <td>10</td>\n",
       "      <td>{'alpha': 10}</td>\n",
       "      <td>0.670926</td>\n",
       "      <td>0.662981</td>\n",
       "      <td>0.669556</td>\n",
       "      <td>0.666470</td>\n",
       "      <td>...</td>\n",
       "      <td>0.667749</td>\n",
       "      <td>0.002788</td>\n",
       "      <td>12</td>\n",
       "      <td>0.704571</td>\n",
       "      <td>0.706940</td>\n",
       "      <td>0.706386</td>\n",
       "      <td>0.705623</td>\n",
       "      <td>0.703870</td>\n",
       "      <td>0.705478</td>\n",
       "      <td>0.001131</td>\n",
       "    </tr>\n",
       "    <tr>\n",
       "      <th>12</th>\n",
       "      <td>0.121868</td>\n",
       "      <td>0.006250</td>\n",
       "      <td>0.024998</td>\n",
       "      <td>0.007654</td>\n",
       "      <td>50</td>\n",
       "      <td>{'alpha': 50}</td>\n",
       "      <td>0.605545</td>\n",
       "      <td>0.599809</td>\n",
       "      <td>0.598831</td>\n",
       "      <td>0.598697</td>\n",
       "      <td>...</td>\n",
       "      <td>0.602582</td>\n",
       "      <td>0.004495</td>\n",
       "      <td>13</td>\n",
       "      <td>0.618151</td>\n",
       "      <td>0.619016</td>\n",
       "      <td>0.617839</td>\n",
       "      <td>0.619171</td>\n",
       "      <td>0.615691</td>\n",
       "      <td>0.617974</td>\n",
       "      <td>0.001248</td>\n",
       "    </tr>\n",
       "    <tr>\n",
       "      <th>13</th>\n",
       "      <td>0.127586</td>\n",
       "      <td>0.006587</td>\n",
       "      <td>0.018759</td>\n",
       "      <td>0.006252</td>\n",
       "      <td>100</td>\n",
       "      <td>{'alpha': 100}</td>\n",
       "      <td>0.510065</td>\n",
       "      <td>0.511814</td>\n",
       "      <td>0.509432</td>\n",
       "      <td>0.508724</td>\n",
       "      <td>...</td>\n",
       "      <td>0.509902</td>\n",
       "      <td>0.001046</td>\n",
       "      <td>14</td>\n",
       "      <td>0.512870</td>\n",
       "      <td>0.512192</td>\n",
       "      <td>0.512438</td>\n",
       "      <td>0.513161</td>\n",
       "      <td>0.513064</td>\n",
       "      <td>0.512745</td>\n",
       "      <td>0.000372</td>\n",
       "    </tr>\n",
       "  </tbody>\n",
       "</table>\n",
       "<p>14 rows × 21 columns</p>\n",
       "</div>"
      ],
      "text/plain": [
       "    mean_fit_time  std_fit_time  mean_score_time  std_score_time param_alpha  \\\n",
       "8        0.126429      0.007797         0.031245        0.000014         0.5   \n",
       "7        0.118877      0.007759         0.031251        0.000014         0.1   \n",
       "9        0.128821      0.010462         0.024048        0.010874           1   \n",
       "5        0.134429      0.007697         0.021866        0.007660        0.05   \n",
       "6        0.124997      0.009876         0.025003        0.007656        0.01   \n",
       "3        0.126442      0.010301         0.025006        0.007659       0.005   \n",
       "4        0.137483      0.006246         0.015625        0.000015       0.001   \n",
       "1        0.128130      0.006251         0.024995        0.007658      0.0005   \n",
       "2        0.137487      0.015304         0.024995        0.007658      0.0001   \n",
       "10       0.136997      0.010926         0.019181        0.006090           5   \n",
       "0        0.131924      0.021787         0.030399        0.010027       1e-05   \n",
       "11       0.125004      0.009888         0.034362        0.006246          10   \n",
       "12       0.121868      0.006250         0.024998        0.007654          50   \n",
       "13       0.127586      0.006587         0.018759        0.006252         100   \n",
       "\n",
       "               params  split0_test_score  split1_test_score  \\\n",
       "8      {'alpha': 0.5}           0.700466           0.699452   \n",
       "7      {'alpha': 0.1}           0.697697           0.698539   \n",
       "9        {'alpha': 1}           0.700090           0.697633   \n",
       "5     {'alpha': 0.05}           0.695913           0.697210   \n",
       "6     {'alpha': 0.01}           0.691462           0.693289   \n",
       "3    {'alpha': 0.005}           0.689551           0.691430   \n",
       "4    {'alpha': 0.001}           0.685284           0.687112   \n",
       "1   {'alpha': 0.0005}           0.683512           0.685344   \n",
       "2   {'alpha': 0.0001}           0.679748           0.681480   \n",
       "10       {'alpha': 5}           0.685882           0.679202   \n",
       "0    {'alpha': 1e-05}           0.675058           0.676705   \n",
       "11      {'alpha': 10}           0.670926           0.662981   \n",
       "12      {'alpha': 50}           0.605545           0.599809   \n",
       "13     {'alpha': 100}           0.510065           0.511814   \n",
       "\n",
       "    split2_test_score  split3_test_score  ...  mean_test_score  \\\n",
       "8            0.709574           0.705463  ...         0.705027   \n",
       "7            0.708991           0.704112  ...         0.704174   \n",
       "9            0.707614           0.703785  ...         0.703269   \n",
       "5            0.707923           0.702627  ...         0.702942   \n",
       "6            0.704539           0.698349  ...         0.699284   \n",
       "3            0.702811           0.696348  ...         0.697530   \n",
       "4            0.698434           0.691569  ...         0.693304   \n",
       "1            0.696456           0.689573  ...         0.691492   \n",
       "2            0.691959           0.685195  ...         0.687468   \n",
       "10           0.687622           0.683757  ...         0.684405   \n",
       "0            0.686166           0.680054  ...         0.682444   \n",
       "11           0.669556           0.666470  ...         0.667749   \n",
       "12           0.598831           0.598697  ...         0.602582   \n",
       "13           0.509432           0.508724  ...         0.509902   \n",
       "\n",
       "    std_test_score  rank_test_score  split0_train_score  split1_train_score  \\\n",
       "8         0.004457                1            0.779223            0.780079   \n",
       "7         0.005496                2            0.790156            0.791022   \n",
       "9         0.003916                3            0.770995            0.771897   \n",
       "5         0.005877                4            0.793175            0.794050   \n",
       "6         0.006570                5            0.798333            0.799217   \n",
       "3         0.006778                6            0.800012            0.800898   \n",
       "4         0.007056                7            0.803033            0.803926   \n",
       "1         0.007108                8            0.804041            0.804938   \n",
       "2         0.007112                9            0.805851            0.806763   \n",
       "10        0.002876               10            0.731856            0.733581   \n",
       "0         0.007016               11            0.807510            0.808447   \n",
       "11        0.002788               12            0.704571            0.706940   \n",
       "12        0.004495               13            0.618151            0.619016   \n",
       "13        0.001046               14            0.512870            0.512192   \n",
       "\n",
       "    split2_train_score  split3_train_score  split4_train_score  \\\n",
       "8             0.782180            0.779593            0.777597   \n",
       "7             0.793281            0.790824            0.788302   \n",
       "9             0.773797            0.771193            0.769428   \n",
       "5             0.796336            0.793930            0.791212   \n",
       "6             0.801521            0.799241            0.796173   \n",
       "3             0.803195            0.800972            0.797789   \n",
       "4             0.806189            0.804102            0.800711   \n",
       "1             0.807174            0.805145            0.801684   \n",
       "2             0.808935            0.807015            0.803448   \n",
       "10            0.734003            0.732364            0.730758   \n",
       "0             0.810528            0.808721            0.805067   \n",
       "11            0.706386            0.705623            0.703870   \n",
       "12            0.617839            0.619171            0.615691   \n",
       "13            0.512438            0.513161            0.513064   \n",
       "\n",
       "    mean_train_score  std_train_score  \n",
       "8           0.779735         0.001480  \n",
       "7           0.790717         0.001601  \n",
       "9           0.771462         0.001419  \n",
       "5           0.793741         0.001648  \n",
       "6           0.798897         0.001723  \n",
       "3           0.800573         0.001744  \n",
       "4           0.803592         0.001773  \n",
       "1           0.804597         0.001781  \n",
       "2           0.806402         0.001786  \n",
       "10          0.732513         0.001175  \n",
       "0           0.808055         0.001785  \n",
       "11          0.705478         0.001131  \n",
       "12          0.617974         0.001248  \n",
       "13          0.512745         0.000372  \n",
       "\n",
       "[14 rows x 21 columns]"
      ]
     },
     "execution_count": 23,
     "metadata": {},
     "output_type": "execute_result"
    }
   ],
   "source": [
    "# Seeing our results of cross validation.\n",
    "results.sort_values(['mean_test_score'],ascending=False)"
   ]
  },
  {
   "cell_type": "markdown",
   "metadata": {},
   "source": [
    "From the results above we can see that the best CV score comes out when hyperparameter alpha=0.5"
   ]
  },
  {
   "cell_type": "code",
   "execution_count": 28,
   "metadata": {},
   "outputs": [],
   "source": [
    "# Function to get output probabilities on the data not the predicted outputs. \n",
    "def batch_predict(clf, data):\n",
    "    y_data_pred = []\n",
    "    tr_loop = data.shape[0] - data.shape[0]%1000\n",
    "\n",
    "    # In this for loop we will iterate until the last 1000 multiplier.\n",
    "    for i in range(0, tr_loop, 1000):\n",
    "        y_data_pred.extend(clf.predict_proba(data[i:i+1000])[:,1])\n",
    "    \n",
    "    # This if condition for remaining data points\n",
    "    if data.shape[0]%1000 !=0:\n",
    "        y_data_pred.extend(clf.predict_proba(data[tr_loop:])[:,1])\n",
    "    \n",
    "    return y_data_pred"
   ]
  },
  {
   "cell_type": "code",
   "execution_count": 29,
   "metadata": {
    "scrolled": true
   },
   "outputs": [
    {
     "data": {
      "image/png": "[encoded data removed]",
      "text/plain": [
       "<Figure size 432x288 with 1 Axes>"
      ]
     },
     "metadata": {
      "needs_background": "light"
     },
     "output_type": "display_data"
    }
   ],
   "source": [
    "# Initializing the model with best value of alpha.\n",
    "from sklearn.metrics import roc_curve, auc\n",
    "\n",
    "model=MultinomialNB(alpha=0.5)\n",
    "model.fit(X_tr,y_train)\n",
    "\n",
    "# Getting the prediction values from the above function.\n",
    "train_predictions=batch_predict(model, X_tr)\n",
    "test_predictions=batch_predict(model, X_te)\n",
    "\n",
    "train_fpr, train_tpr, tr_thresholds = roc_curve(y_train, train_predictions)\n",
    "test_fpr, test_tpr, te_thresholds = roc_curve(y_test, test_predictions)\n",
    "\n",
    "plt.plot(train_fpr, train_tpr, label=\"train AUC =\"+str(auc(train_fpr, train_tpr)))\n",
    "plt.plot(test_fpr, test_tpr, label=\"test AUC =\"+str(auc(test_fpr, test_tpr)))\n",
    "plt.legend()\n",
    "plt.xlabel(\"Alpha\")\n",
    "plt.ylabel(\"AUC\")\n",
    "plt.title(\"ERROR PLOTS\")\n",
    "plt.grid()\n",
    "plt.show()"
   ]
  },
  {
   "cell_type": "markdown",
   "metadata": {},
   "source": [
    "Train and Test AUC and score are 0.768 and 0.702 is achieved respectively. "
   ]
  },
  {
   "cell_type": "code",
   "execution_count": 30,
   "metadata": {},
   "outputs": [],
   "source": [
    "# Finding the best thershold for our model.\n",
    "def find_best_threshold(threshold, fpr, tpr):\n",
    "    t = threshold[np.argmax(tpr*(1-fpr))]\n",
    "    # (tpr*(1-fpr)) will be maximum if your fpr is very low and tpr is very high.\n",
    "    print(\"the maximum value of tpr*(1-fpr)\", max(tpr*(1-fpr)), \"for threshold\", np.round(t,3))\n",
    "    return t\n",
    "\n",
    "# Making predictions with best threshold\n",
    "def predict_with_best_t(proba, threshold):\n",
    "    predictions = []\n",
    "    for i in proba:\n",
    "        if i>=threshold:\n",
    "            predictions.append(1)\n",
    "        else:\n",
    "            predictions.append(0)\n",
    "    return predictions"
   ]
  },
  {
   "cell_type": "code",
   "execution_count": 31,
   "metadata": {},
   "outputs": [
    {
     "name": "stdout",
     "output_type": "stream",
     "text": [
      "the maximum value of tpr*(1-fpr) 0.49513007707811524 for threshold 0.83\n",
      "Train confusion matrix\n",
      "[[ 9245  3989]\n",
      " [21599 52565]]\n",
      "Test confusion matrix\n",
      "[[ 2036  1272]\n",
      " [ 5720 12822]]\n"
     ]
    }
   ],
   "source": [
    "# Getting the predictions from best threshold and printing the confusion matrix.\n",
    "from sklearn.metrics import confusion_matrix\n",
    "best_t = find_best_threshold(tr_thresholds, train_fpr, train_tpr)\n",
    "print(\"Train confusion matrix\")\n",
    "train_conf=confusion_matrix(y_train, predict_with_best_t(train_predictions, best_t))\n",
    "print(train_conf)\n",
    "print(\"Test confusion matrix\")\n",
    "test_conf=confusion_matrix(y_test, predict_with_best_t(test_predictions, best_t))\n",
    "print(test_conf)"
   ]
  },
  {
   "cell_type": "code",
   "execution_count": 34,
   "metadata": {
    "scrolled": true
   },
   "outputs": [
    {
     "data": {
      "image/png": "[encoded data removed]",
      "text/plain": [
       "<Figure size 432x288 with 2 Axes>"
      ]
     },
     "metadata": {
      "needs_background": "light"
     },
     "output_type": "display_data"
    }
   ],
   "source": [
    "# Ploting the confusion matrix heatmap for training data.\n",
    "# https://stackoverflow.com/questions/61748441/how-to-fix-the-values-displayed-in-a-confusion-matrix-in-exponential-form-to-nor\n",
    "import seaborn as sns\n",
    "import matplotlib.pyplot as plt     \n",
    "ax= plt.subplot();\n",
    "sns.heatmap(train_conf, annot=True,cmap='Blues',ax=ax);\n",
    "# labels, title and ticks\n",
    "ax.set_xlabel('Predicted labels');ax.set_ylabel('True labels'); \n",
    "ax.set_ylim(2.0, 0)\n",
    "ax.set_title('Train Confusion Matrix');\n",
    "ax.xaxis.set_ticklabels(['Negative','Positive']); \n",
    "ax.yaxis.set_ticklabels(['Negative','Positive']);\n",
    "plt.show()"
   ]
  },
  {
   "cell_type": "code",
   "execution_count": 35,
   "metadata": {},
   "outputs": [
    {
     "data": {
      "image/png": "[encoded data removed]",
      "text/plain": [
       "<Figure size 432x288 with 2 Axes>"
      ]
     },
     "metadata": {
      "needs_background": "light"
     },
     "output_type": "display_data"
    }
   ],
   "source": [
    "# Ploting the confusion matrix heatmap for training data.\n",
    "#https://stackoverflow.com/questions/61748441/how-to-fix-the-values-displayed-in-a-confusion-matrix-in-exponential-form-to-nor \n",
    "ax= plt.subplot();\n",
    "sns.heatmap(test_conf, annot=True,cmap='Blues',ax=ax);\n",
    "# labels, title and ticks\n",
    "ax.set_xlabel('Predicted labels');ax.set_ylabel('True labels'); \n",
    "ax.set_ylim(2.0, 0)\n",
    "ax.set_title('Test Confusion Matrix');\n",
    "ax.xaxis.set_ticklabels(['Negative','Positive']); \n",
    "ax.yaxis.set_ticklabels(['Negative','Positive']);\n",
    "plt.show()"
   ]
  },
  {
   "cell_type": "markdown",
   "metadata": {},
   "source": [
    "# TFIDF approach"
   ]
  },
  {
   "cell_type": "markdown",
   "metadata": {},
   "source": [
    "Repeating all the above steps but replacing the Bag of words approach for feature 'essay' to TFIDF approach. "
   ]
  },
  {
   "cell_type": "code",
   "execution_count": 36,
   "metadata": {},
   "outputs": [],
   "source": [
    "data = pd.read_csv('data.csv')\n",
    "#data.head()\n",
    "y=data['project_is_approved'].values\n",
    "X=data.drop(['project_is_approved'],axis=1)"
   ]
  },
  {
   "cell_type": "code",
   "execution_count": 37,
   "metadata": {
    "id": "i-PyprDNb3dI"
   },
   "outputs": [],
   "source": [
    "from sklearn.model_selection import train_test_split\n",
    "X_train, X_test, y_train, y_test = train_test_split(X, y, test_size=0.2, stratify=y) "
   ]
  },
  {
   "cell_type": "code",
   "execution_count": 38,
   "metadata": {},
   "outputs": [
    {
     "name": "stdout",
     "output_type": "stream",
     "text": [
      "X Train: (87398, 8)\n",
      "X Test: (21850, 8)\n",
      "y Train: (87398,)\n",
      "X Test: (21850,)\n"
     ]
    }
   ],
   "source": [
    "print('X Train:',X_train.shape)\n",
    "print('X Test:',X_test.shape)\n",
    "print('y Train:',y_train.shape)\n",
    "print('X Test:',y_test.shape)"
   ]
  },
  {
   "cell_type": "markdown",
   "metadata": {},
   "source": [
    "Encoding the categorical feature 'essay' with TFIDF vectorizer to make data ready for the model."
   ]
  },
  {
   "cell_type": "code",
   "execution_count": 39,
   "metadata": {
    "id": "-SczZKiab3dR"
   },
   "outputs": [
    {
     "name": "stdout",
     "output_type": "stream",
     "text": [
      "After vectorizations\n",
      "(87398, 15268) (87398,)\n",
      "(21850, 15268) (21850,)\n"
     ]
    }
   ],
   "source": [
    "# Using scikit-learn TFIDF vectorizer.\n",
    "vectorizer = TfidfVectorizer(min_df=10)\n",
    "vectorizer.fit(X_train['essay'].values)\n",
    "X_train_essay_tfidf = vectorizer.transform(X_train['essay'].values)\n",
    "X_test_essay_tfidf = vectorizer.transform(X_test['essay'].values)\n",
    "\n",
    "print(\"After vectorizations\")\n",
    "print(X_train_essay_tfidf.shape, y_train.shape)\n",
    "print(X_test_essay_tfidf.shape, y_test.shape)"
   ]
  },
  {
   "cell_type": "code",
   "execution_count": 40,
   "metadata": {},
   "outputs": [
    {
     "name": "stdout",
     "output_type": "stream",
     "text": [
      "(87398, 15369) (87398,)\n",
      "(21850, 15369) (21850,)\n"
     ]
    }
   ],
   "source": [
    "# Combining all other features with tfidf's output.\n",
    "from scipy.sparse import hstack\n",
    "X_tr = hstack((X_train_essay_tfidf, X_train_state_ohe, X_train_teacher_ohe, X_train_grade_ohe, X_train_category_ohe, X_train_subcategory_ohe, X_train_price_norm, X_train_teacherpostedproject_norm)).tocsr()\n",
    "X_te = hstack((X_test_essay_tfidf, X_test_state_ohe, X_test_teacher_ohe, X_test_grade_ohe, X_test_category_ohe, X_test_subcategory_ohe, X_test_price_norm, X_test_teacherpostedproject_norm)).tocsr()\n",
    "\n",
    "print(X_tr.shape, y_train.shape)\n",
    "print(X_te.shape, y_test.shape)"
   ]
  },
  {
   "cell_type": "markdown",
   "metadata": {},
   "source": [
    "Selecting best hyperparameter as done above."
   ]
  },
  {
   "cell_type": "code",
   "execution_count": 44,
   "metadata": {
    "scrolled": true
   },
   "outputs": [
    {
     "data": {
      "image/png": "[encoded data removed]",
      "text/plain": [
       "<Figure size 432x288 with 1 Axes>"
      ]
     },
     "metadata": {
      "needs_background": "light"
     },
     "output_type": "display_data"
    }
   ],
   "source": [
    "model=MultinomialNB()\n",
    "para={'alpha':[0.00001,0.0005, 0.0001,0.005,0.001,0.05,0.01,0.1,0.5,1,5,10,50,100]}\n",
    "classifier=GridSearchCV(model, para, cv=5, scoring='roc_auc', return_train_score=True)\n",
    "classifier.fit(X_tr, y_train)\n",
    "\n",
    "results = pd.DataFrame.from_dict(classifier.cv_results_)\n",
    "results = results.sort_values(['param_alpha'])\n",
    "\n",
    "train_auc= results['mean_train_score']\n",
    "cv_auc = results['mean_test_score'] \n",
    "alphas =  results['param_alpha']\n",
    "\n",
    "a_log=[]\n",
    "for i in alphas:\n",
    "    a_log.append(np.log(i))\n",
    "\n",
    "\n",
    "plt.plot(a_log, train_auc, label='Train AUC')\n",
    "plt.plot(a_log, cv_auc, label='CV AUC')\n",
    "\n",
    "plt.scatter(a_log, train_auc, label='Train AUC points')\n",
    "plt.scatter(a_log, cv_auc, label='CV AUC points')\n",
    "\n",
    "\n",
    "plt.legend()\n",
    "plt.xlabel(\"Log alpha hyperparameter\")\n",
    "plt.ylabel(\"AUC\")\n",
    "plt.title(\"Hyper parameter Vs AUC plot\")\n",
    "plt.grid()\n",
    "plt.show()"
   ]
  },
  {
   "cell_type": "code",
   "execution_count": 45,
   "metadata": {
    "scrolled": true
   },
   "outputs": [
    {
     "data": {
      "text/html": [
       "<div>\n",
       "<style scoped>\n",
       "    .dataframe tbody tr th:only-of-type {\n",
       "        vertical-align: middle;\n",
       "    }\n",
       "\n",
       "    .dataframe tbody tr th {\n",
       "        vertical-align: top;\n",
       "    }\n",
       "\n",
       "    .dataframe thead th {\n",
       "        text-align: right;\n",
       "    }\n",
       "</style>\n",
       "<table border=\"1\" class=\"dataframe\">\n",
       "  <thead>\n",
       "    <tr style=\"text-align: right;\">\n",
       "      <th></th>\n",
       "      <th>mean_fit_time</th>\n",
       "      <th>std_fit_time</th>\n",
       "      <th>mean_score_time</th>\n",
       "      <th>std_score_time</th>\n",
       "      <th>param_alpha</th>\n",
       "      <th>params</th>\n",
       "      <th>split0_test_score</th>\n",
       "      <th>split1_test_score</th>\n",
       "      <th>split2_test_score</th>\n",
       "      <th>split3_test_score</th>\n",
       "      <th>...</th>\n",
       "      <th>mean_test_score</th>\n",
       "      <th>std_test_score</th>\n",
       "      <th>rank_test_score</th>\n",
       "      <th>split0_train_score</th>\n",
       "      <th>split1_train_score</th>\n",
       "      <th>split2_train_score</th>\n",
       "      <th>split3_train_score</th>\n",
       "      <th>split4_train_score</th>\n",
       "      <th>mean_train_score</th>\n",
       "      <th>std_train_score</th>\n",
       "    </tr>\n",
       "  </thead>\n",
       "  <tbody>\n",
       "    <tr>\n",
       "      <th>7</th>\n",
       "      <td>0.131240</td>\n",
       "      <td>0.007654</td>\n",
       "      <td>0.021876</td>\n",
       "      <td>0.007647</td>\n",
       "      <td>0.1</td>\n",
       "      <td>{'alpha': 0.1}</td>\n",
       "      <td>0.690178</td>\n",
       "      <td>0.695416</td>\n",
       "      <td>0.701059</td>\n",
       "      <td>0.697988</td>\n",
       "      <td>...</td>\n",
       "      <td>0.694328</td>\n",
       "      <td>0.005116</td>\n",
       "      <td>1</td>\n",
       "      <td>0.809836</td>\n",
       "      <td>0.809813</td>\n",
       "      <td>0.807063</td>\n",
       "      <td>0.806768</td>\n",
       "      <td>0.810584</td>\n",
       "      <td>0.808813</td>\n",
       "      <td>0.001577</td>\n",
       "    </tr>\n",
       "    <tr>\n",
       "      <th>5</th>\n",
       "      <td>0.134355</td>\n",
       "      <td>0.012497</td>\n",
       "      <td>0.018752</td>\n",
       "      <td>0.006257</td>\n",
       "      <td>0.05</td>\n",
       "      <td>{'alpha': 0.05}</td>\n",
       "      <td>0.688609</td>\n",
       "      <td>0.693080</td>\n",
       "      <td>0.700737</td>\n",
       "      <td>0.697901</td>\n",
       "      <td>...</td>\n",
       "      <td>0.693010</td>\n",
       "      <td>0.005860</td>\n",
       "      <td>2</td>\n",
       "      <td>0.818319</td>\n",
       "      <td>0.817621</td>\n",
       "      <td>0.815374</td>\n",
       "      <td>0.814994</td>\n",
       "      <td>0.818912</td>\n",
       "      <td>0.817044</td>\n",
       "      <td>0.001577</td>\n",
       "    </tr>\n",
       "    <tr>\n",
       "      <th>6</th>\n",
       "      <td>0.121869</td>\n",
       "      <td>0.006253</td>\n",
       "      <td>0.024998</td>\n",
       "      <td>0.007664</td>\n",
       "      <td>0.01</td>\n",
       "      <td>{'alpha': 0.01}</td>\n",
       "      <td>0.680702</td>\n",
       "      <td>0.684085</td>\n",
       "      <td>0.694560</td>\n",
       "      <td>0.691705</td>\n",
       "      <td>...</td>\n",
       "      <td>0.685623</td>\n",
       "      <td>0.006584</td>\n",
       "      <td>3</td>\n",
       "      <td>0.827729</td>\n",
       "      <td>0.826212</td>\n",
       "      <td>0.824532</td>\n",
       "      <td>0.824091</td>\n",
       "      <td>0.828135</td>\n",
       "      <td>0.826140</td>\n",
       "      <td>0.001631</td>\n",
       "    </tr>\n",
       "    <tr>\n",
       "      <th>3</th>\n",
       "      <td>0.130168</td>\n",
       "      <td>0.011607</td>\n",
       "      <td>0.025354</td>\n",
       "      <td>0.007980</td>\n",
       "      <td>0.005</td>\n",
       "      <td>{'alpha': 0.005}</td>\n",
       "      <td>0.677126</td>\n",
       "      <td>0.680233</td>\n",
       "      <td>0.691573</td>\n",
       "      <td>0.688548</td>\n",
       "      <td>...</td>\n",
       "      <td>0.682277</td>\n",
       "      <td>0.006732</td>\n",
       "      <td>4</td>\n",
       "      <td>0.829840</td>\n",
       "      <td>0.828138</td>\n",
       "      <td>0.826572</td>\n",
       "      <td>0.826130</td>\n",
       "      <td>0.830188</td>\n",
       "      <td>0.828173</td>\n",
       "      <td>0.001648</td>\n",
       "    </tr>\n",
       "    <tr>\n",
       "      <th>4</th>\n",
       "      <td>0.141271</td>\n",
       "      <td>0.013693</td>\n",
       "      <td>0.024275</td>\n",
       "      <td>0.007295</td>\n",
       "      <td>0.001</td>\n",
       "      <td>{'alpha': 0.001}</td>\n",
       "      <td>0.669870</td>\n",
       "      <td>0.672427</td>\n",
       "      <td>0.685504</td>\n",
       "      <td>0.681848</td>\n",
       "      <td>...</td>\n",
       "      <td>0.675391</td>\n",
       "      <td>0.007052</td>\n",
       "      <td>5</td>\n",
       "      <td>0.832754</td>\n",
       "      <td>0.830804</td>\n",
       "      <td>0.829390</td>\n",
       "      <td>0.828955</td>\n",
       "      <td>0.833019</td>\n",
       "      <td>0.830984</td>\n",
       "      <td>0.001671</td>\n",
       "    </tr>\n",
       "    <tr>\n",
       "      <th>1</th>\n",
       "      <td>0.131237</td>\n",
       "      <td>0.015935</td>\n",
       "      <td>0.021881</td>\n",
       "      <td>0.007654</td>\n",
       "      <td>0.0005</td>\n",
       "      <td>{'alpha': 0.0005}</td>\n",
       "      <td>0.667362</td>\n",
       "      <td>0.669724</td>\n",
       "      <td>0.683354</td>\n",
       "      <td>0.679428</td>\n",
       "      <td>...</td>\n",
       "      <td>0.672944</td>\n",
       "      <td>0.007175</td>\n",
       "      <td>6</td>\n",
       "      <td>0.833491</td>\n",
       "      <td>0.831477</td>\n",
       "      <td>0.830102</td>\n",
       "      <td>0.829673</td>\n",
       "      <td>0.833728</td>\n",
       "      <td>0.831694</td>\n",
       "      <td>0.001675</td>\n",
       "    </tr>\n",
       "    <tr>\n",
       "      <th>8</th>\n",
       "      <td>0.134374</td>\n",
       "      <td>0.012497</td>\n",
       "      <td>0.021868</td>\n",
       "      <td>0.007654</td>\n",
       "      <td>0.5</td>\n",
       "      <td>{'alpha': 0.5}</td>\n",
       "      <td>0.669926</td>\n",
       "      <td>0.677920</td>\n",
       "      <td>0.674557</td>\n",
       "      <td>0.671638</td>\n",
       "      <td>...</td>\n",
       "      <td>0.672887</td>\n",
       "      <td>0.002989</td>\n",
       "      <td>7</td>\n",
       "      <td>0.756112</td>\n",
       "      <td>0.758294</td>\n",
       "      <td>0.754152</td>\n",
       "      <td>0.754401</td>\n",
       "      <td>0.757432</td>\n",
       "      <td>0.756078</td>\n",
       "      <td>0.001629</td>\n",
       "    </tr>\n",
       "    <tr>\n",
       "      <th>2</th>\n",
       "      <td>0.133040</td>\n",
       "      <td>0.012748</td>\n",
       "      <td>0.024878</td>\n",
       "      <td>0.007564</td>\n",
       "      <td>0.0001</td>\n",
       "      <td>{'alpha': 0.0001}</td>\n",
       "      <td>0.663017</td>\n",
       "      <td>0.664884</td>\n",
       "      <td>0.679505</td>\n",
       "      <td>0.674950</td>\n",
       "      <td>...</td>\n",
       "      <td>0.668537</td>\n",
       "      <td>0.007384</td>\n",
       "      <td>8</td>\n",
       "      <td>0.834541</td>\n",
       "      <td>0.832430</td>\n",
       "      <td>0.831121</td>\n",
       "      <td>0.830702</td>\n",
       "      <td>0.834733</td>\n",
       "      <td>0.832705</td>\n",
       "      <td>0.001678</td>\n",
       "    </tr>\n",
       "    <tr>\n",
       "      <th>0</th>\n",
       "      <td>0.122899</td>\n",
       "      <td>0.013426</td>\n",
       "      <td>0.028122</td>\n",
       "      <td>0.006259</td>\n",
       "      <td>1e-05</td>\n",
       "      <td>{'alpha': 1e-05}</td>\n",
       "      <td>0.659437</td>\n",
       "      <td>0.660822</td>\n",
       "      <td>0.676053</td>\n",
       "      <td>0.671059</td>\n",
       "      <td>...</td>\n",
       "      <td>0.664743</td>\n",
       "      <td>0.007509</td>\n",
       "      <td>9</td>\n",
       "      <td>0.835192</td>\n",
       "      <td>0.833018</td>\n",
       "      <td>0.831757</td>\n",
       "      <td>0.831349</td>\n",
       "      <td>0.835353</td>\n",
       "      <td>0.833334</td>\n",
       "      <td>0.001677</td>\n",
       "    </tr>\n",
       "    <tr>\n",
       "      <th>9</th>\n",
       "      <td>0.121871</td>\n",
       "      <td>0.011693</td>\n",
       "      <td>0.025011</td>\n",
       "      <td>0.007656</td>\n",
       "      <td>1</td>\n",
       "      <td>{'alpha': 1}</td>\n",
       "      <td>0.643929</td>\n",
       "      <td>0.652438</td>\n",
       "      <td>0.644925</td>\n",
       "      <td>0.642216</td>\n",
       "      <td>...</td>\n",
       "      <td>0.645810</td>\n",
       "      <td>0.003500</td>\n",
       "      <td>10</td>\n",
       "      <td>0.710123</td>\n",
       "      <td>0.712409</td>\n",
       "      <td>0.708953</td>\n",
       "      <td>0.709544</td>\n",
       "      <td>0.711442</td>\n",
       "      <td>0.710494</td>\n",
       "      <td>0.001263</td>\n",
       "    </tr>\n",
       "    <tr>\n",
       "      <th>10</th>\n",
       "      <td>0.128113</td>\n",
       "      <td>0.006248</td>\n",
       "      <td>0.018752</td>\n",
       "      <td>0.006250</td>\n",
       "      <td>5</td>\n",
       "      <td>{'alpha': 5}</td>\n",
       "      <td>0.571699</td>\n",
       "      <td>0.578200</td>\n",
       "      <td>0.569935</td>\n",
       "      <td>0.567452</td>\n",
       "      <td>...</td>\n",
       "      <td>0.572770</td>\n",
       "      <td>0.004033</td>\n",
       "      <td>11</td>\n",
       "      <td>0.598527</td>\n",
       "      <td>0.598521</td>\n",
       "      <td>0.598213</td>\n",
       "      <td>0.599437</td>\n",
       "      <td>0.598594</td>\n",
       "      <td>0.598658</td>\n",
       "      <td>0.000411</td>\n",
       "    </tr>\n",
       "    <tr>\n",
       "      <th>11</th>\n",
       "      <td>0.131238</td>\n",
       "      <td>0.007653</td>\n",
       "      <td>0.021873</td>\n",
       "      <td>0.007658</td>\n",
       "      <td>10</td>\n",
       "      <td>{'alpha': 10}</td>\n",
       "      <td>0.547746</td>\n",
       "      <td>0.553829</td>\n",
       "      <td>0.546789</td>\n",
       "      <td>0.545871</td>\n",
       "      <td>...</td>\n",
       "      <td>0.549773</td>\n",
       "      <td>0.003696</td>\n",
       "      <td>12</td>\n",
       "      <td>0.566060</td>\n",
       "      <td>0.565198</td>\n",
       "      <td>0.565656</td>\n",
       "      <td>0.566501</td>\n",
       "      <td>0.565242</td>\n",
       "      <td>0.565732</td>\n",
       "      <td>0.000496</td>\n",
       "    </tr>\n",
       "    <tr>\n",
       "      <th>12</th>\n",
       "      <td>0.128106</td>\n",
       "      <td>0.011695</td>\n",
       "      <td>0.021871</td>\n",
       "      <td>0.007650</td>\n",
       "      <td>50</td>\n",
       "      <td>{'alpha': 50}</td>\n",
       "      <td>0.516421</td>\n",
       "      <td>0.521145</td>\n",
       "      <td>0.517655</td>\n",
       "      <td>0.519777</td>\n",
       "      <td>...</td>\n",
       "      <td>0.520293</td>\n",
       "      <td>0.003494</td>\n",
       "      <td>13</td>\n",
       "      <td>0.526319</td>\n",
       "      <td>0.525059</td>\n",
       "      <td>0.525655</td>\n",
       "      <td>0.525561</td>\n",
       "      <td>0.524161</td>\n",
       "      <td>0.525351</td>\n",
       "      <td>0.000718</td>\n",
       "    </tr>\n",
       "    <tr>\n",
       "      <th>13</th>\n",
       "      <td>0.123545</td>\n",
       "      <td>0.002912</td>\n",
       "      <td>0.028131</td>\n",
       "      <td>0.006246</td>\n",
       "      <td>100</td>\n",
       "      <td>{'alpha': 100}</td>\n",
       "      <td>0.510382</td>\n",
       "      <td>0.514093</td>\n",
       "      <td>0.511903</td>\n",
       "      <td>0.514259</td>\n",
       "      <td>...</td>\n",
       "      <td>0.514144</td>\n",
       "      <td>0.003301</td>\n",
       "      <td>14</td>\n",
       "      <td>0.518353</td>\n",
       "      <td>0.517306</td>\n",
       "      <td>0.517695</td>\n",
       "      <td>0.517455</td>\n",
       "      <td>0.516151</td>\n",
       "      <td>0.517392</td>\n",
       "      <td>0.000717</td>\n",
       "    </tr>\n",
       "  </tbody>\n",
       "</table>\n",
       "<p>14 rows × 21 columns</p>\n",
       "</div>"
      ],
      "text/plain": [
       "    mean_fit_time  std_fit_time  mean_score_time  std_score_time param_alpha  \\\n",
       "7        0.131240      0.007654         0.021876        0.007647         0.1   \n",
       "5        0.134355      0.012497         0.018752        0.006257        0.05   \n",
       "6        0.121869      0.006253         0.024998        0.007664        0.01   \n",
       "3        0.130168      0.011607         0.025354        0.007980       0.005   \n",
       "4        0.141271      0.013693         0.024275        0.007295       0.001   \n",
       "1        0.131237      0.015935         0.021881        0.007654      0.0005   \n",
       "8        0.134374      0.012497         0.021868        0.007654         0.5   \n",
       "2        0.133040      0.012748         0.024878        0.007564      0.0001   \n",
       "0        0.122899      0.013426         0.028122        0.006259       1e-05   \n",
       "9        0.121871      0.011693         0.025011        0.007656           1   \n",
       "10       0.128113      0.006248         0.018752        0.006250           5   \n",
       "11       0.131238      0.007653         0.021873        0.007658          10   \n",
       "12       0.128106      0.011695         0.021871        0.007650          50   \n",
       "13       0.123545      0.002912         0.028131        0.006246         100   \n",
       "\n",
       "               params  split0_test_score  split1_test_score  \\\n",
       "7      {'alpha': 0.1}           0.690178           0.695416   \n",
       "5     {'alpha': 0.05}           0.688609           0.693080   \n",
       "6     {'alpha': 0.01}           0.680702           0.684085   \n",
       "3    {'alpha': 0.005}           0.677126           0.680233   \n",
       "4    {'alpha': 0.001}           0.669870           0.672427   \n",
       "1   {'alpha': 0.0005}           0.667362           0.669724   \n",
       "8      {'alpha': 0.5}           0.669926           0.677920   \n",
       "2   {'alpha': 0.0001}           0.663017           0.664884   \n",
       "0    {'alpha': 1e-05}           0.659437           0.660822   \n",
       "9        {'alpha': 1}           0.643929           0.652438   \n",
       "10       {'alpha': 5}           0.571699           0.578200   \n",
       "11      {'alpha': 10}           0.547746           0.553829   \n",
       "12      {'alpha': 50}           0.516421           0.521145   \n",
       "13     {'alpha': 100}           0.510382           0.514093   \n",
       "\n",
       "    split2_test_score  split3_test_score  ...  mean_test_score  \\\n",
       "7            0.701059           0.697988  ...         0.694328   \n",
       "5            0.700737           0.697901  ...         0.693010   \n",
       "6            0.694560           0.691705  ...         0.685623   \n",
       "3            0.691573           0.688548  ...         0.682277   \n",
       "4            0.685504           0.681848  ...         0.675391   \n",
       "1            0.683354           0.679428  ...         0.672944   \n",
       "8            0.674557           0.671638  ...         0.672887   \n",
       "2            0.679505           0.674950  ...         0.668537   \n",
       "0            0.676053           0.671059  ...         0.664743   \n",
       "9            0.644925           0.642216  ...         0.645810   \n",
       "10           0.569935           0.567452  ...         0.572770   \n",
       "11           0.546789           0.545871  ...         0.549773   \n",
       "12           0.517655           0.519777  ...         0.520293   \n",
       "13           0.511903           0.514259  ...         0.514144   \n",
       "\n",
       "    std_test_score  rank_test_score  split0_train_score  split1_train_score  \\\n",
       "7         0.005116                1            0.809836            0.809813   \n",
       "5         0.005860                2            0.818319            0.817621   \n",
       "6         0.006584                3            0.827729            0.826212   \n",
       "3         0.006732                4            0.829840            0.828138   \n",
       "4         0.007052                5            0.832754            0.830804   \n",
       "1         0.007175                6            0.833491            0.831477   \n",
       "8         0.002989                7            0.756112            0.758294   \n",
       "2         0.007384                8            0.834541            0.832430   \n",
       "0         0.007509                9            0.835192            0.833018   \n",
       "9         0.003500               10            0.710123            0.712409   \n",
       "10        0.004033               11            0.598527            0.598521   \n",
       "11        0.003696               12            0.566060            0.565198   \n",
       "12        0.003494               13            0.526319            0.525059   \n",
       "13        0.003301               14            0.518353            0.517306   \n",
       "\n",
       "    split2_train_score  split3_train_score  split4_train_score  \\\n",
       "7             0.807063            0.806768            0.810584   \n",
       "5             0.815374            0.814994            0.818912   \n",
       "6             0.824532            0.824091            0.828135   \n",
       "3             0.826572            0.826130            0.830188   \n",
       "4             0.829390            0.828955            0.833019   \n",
       "1             0.830102            0.829673            0.833728   \n",
       "8             0.754152            0.754401            0.757432   \n",
       "2             0.831121            0.830702            0.834733   \n",
       "0             0.831757            0.831349            0.835353   \n",
       "9             0.708953            0.709544            0.711442   \n",
       "10            0.598213            0.599437            0.598594   \n",
       "11            0.565656            0.566501            0.565242   \n",
       "12            0.525655            0.525561            0.524161   \n",
       "13            0.517695            0.517455            0.516151   \n",
       "\n",
       "    mean_train_score  std_train_score  \n",
       "7           0.808813         0.001577  \n",
       "5           0.817044         0.001577  \n",
       "6           0.826140         0.001631  \n",
       "3           0.828173         0.001648  \n",
       "4           0.830984         0.001671  \n",
       "1           0.831694         0.001675  \n",
       "8           0.756078         0.001629  \n",
       "2           0.832705         0.001678  \n",
       "0           0.833334         0.001677  \n",
       "9           0.710494         0.001263  \n",
       "10          0.598658         0.000411  \n",
       "11          0.565732         0.000496  \n",
       "12          0.525351         0.000718  \n",
       "13          0.517392         0.000717  \n",
       "\n",
       "[14 rows x 21 columns]"
      ]
     },
     "execution_count": 45,
     "metadata": {},
     "output_type": "execute_result"
    }
   ],
   "source": [
    "results.sort_values(['mean_test_score'],ascending=False)"
   ]
  },
  {
   "cell_type": "markdown",
   "metadata": {},
   "source": [
    "From the results above we can see that the best CV score comes out when hyperparameter alpha=0.1"
   ]
  },
  {
   "cell_type": "markdown",
   "metadata": {},
   "source": [
    "Getting probabilities"
   ]
  },
  {
   "cell_type": "code",
   "execution_count": 46,
   "metadata": {},
   "outputs": [],
   "source": [
    "def batch_predict(clf, data):\n",
    "\n",
    "    y_data_pred = []\n",
    "    tr_loop = data.shape[0] - data.shape[0]%1000\n",
    "\n",
    "    for i in range(0, tr_loop, 1000):\n",
    "        y_data_pred.extend(clf.predict_proba(data[i:i+1000])[:,1])\n",
    "\n",
    "    if data.shape[0]%1000 !=0:\n",
    "        y_data_pred.extend(clf.predict_proba(data[tr_loop:])[:,1])\n",
    "    \n",
    "    return y_data_pred"
   ]
  },
  {
   "cell_type": "code",
   "execution_count": 47,
   "metadata": {},
   "outputs": [
    {
     "data": {
      "image/png": "[encoded data removed]",
      "text/plain": [
       "<Figure size 432x288 with 1 Axes>"
      ]
     },
     "metadata": {
      "needs_background": "light"
     },
     "output_type": "display_data"
    }
   ],
   "source": [
    "from sklearn.metrics import roc_curve, auc\n",
    "\n",
    "model=MultinomialNB(alpha=0.1)\n",
    "model.fit(X_tr,y_train)\n",
    "train_predictions=batch_predict(model, X_tr)\n",
    "test_predictions=batch_predict(model, X_te)\n",
    "\n",
    "train_fpr, train_tpr, tr_thresholds = roc_curve(y_train, train_predictions)\n",
    "test_fpr, test_tpr, te_thresholds = roc_curve(y_test, test_predictions)\n",
    "\n",
    "plt.plot(train_fpr, train_tpr, label=\"train AUC =\"+str(auc(train_fpr, train_tpr)))\n",
    "plt.plot(test_fpr, test_tpr, label=\"test AUC =\"+str(auc(test_fpr, test_tpr)))\n",
    "plt.legend()\n",
    "plt.xlabel(\"Alpha\")\n",
    "plt.ylabel(\"AUC\")\n",
    "plt.title(\"ERROR PLOTS\")\n",
    "plt.grid()\n",
    "plt.show()"
   ]
  },
  {
   "cell_type": "markdown",
   "metadata": {},
   "source": [
    "Predicting with best threshold."
   ]
  },
  {
   "cell_type": "code",
   "execution_count": 48,
   "metadata": {},
   "outputs": [],
   "source": [
    "def find_best_threshold(threshold, fpr, tpr):\n",
    "    t = threshold[np.argmax(tpr*(1-fpr))]\n",
    "    print(\"the maximum value of tpr*(1-fpr)\", max(tpr*(1-fpr)), \"for threshold\", np.round(t,3))\n",
    "    return t\n",
    "\n",
    "def predict_with_best_t(proba, threshold):\n",
    "    predictions = []\n",
    "    for i in proba:\n",
    "        if i>=threshold:\n",
    "            predictions.append(1)\n",
    "        else:\n",
    "            predictions.append(0)\n",
    "    return predictions"
   ]
  },
  {
   "cell_type": "markdown",
   "metadata": {},
   "source": [
    "Confusion Matrix"
   ]
  },
  {
   "cell_type": "code",
   "execution_count": 49,
   "metadata": {
    "scrolled": false
   },
   "outputs": [
    {
     "name": "stdout",
     "output_type": "stream",
     "text": [
      "the maximum value of tpr*(1-fpr) 0.5239064877248993 for threshold 0.846\n",
      "Train confusion matrix\n",
      "[[ 9468  3766]\n",
      " [19854 54310]]\n",
      "Test confusion matrix\n",
      "[[ 1966  1342]\n",
      " [ 5340 13202]]\n"
     ]
    }
   ],
   "source": [
    "from sklearn.metrics import confusion_matrix\n",
    "best_t = find_best_threshold(tr_thresholds, train_fpr, train_tpr)\n",
    "print(\"Train confusion matrix\")\n",
    "train_conf=confusion_matrix(y_train, predict_with_best_t(train_predictions, best_t))\n",
    "print(train_conf)\n",
    "print(\"Test confusion matrix\")\n",
    "test_conf=confusion_matrix(y_test, predict_with_best_t(test_predictions, best_t))\n",
    "print(test_conf)"
   ]
  },
  {
   "cell_type": "code",
   "execution_count": 50,
   "metadata": {
    "scrolled": true
   },
   "outputs": [
    {
     "data": {
      "image/png": "[encoded data removed]",
      "text/plain": [
       "<Figure size 432x288 with 2 Axes>"
      ]
     },
     "metadata": {
      "needs_background": "light"
     },
     "output_type": "display_data"
    }
   ],
   "source": [
    "#https://stackoverflow.com/questions/61748441/how-to-fix-the-values-displayed-in-a-confusion-matrix-in-exponential-form-to-nor\n",
    "import seaborn as sns\n",
    "import matplotlib.pyplot as plt     \n",
    "ax= plt.subplot();\n",
    "sns.heatmap(train_conf, annot=True,cmap='Blues',ax=ax);\n",
    "# labels, title and ticks\n",
    "ax.set_xlabel('Predicted labels');ax.set_ylabel('True labels'); \n",
    "ax.set_ylim(2.0, 0)\n",
    "ax.set_title('Train Confusion Matrix');\n",
    "ax.xaxis.set_ticklabels(['Negative','Positive']); \n",
    "ax.yaxis.set_ticklabels(['Negative','Positive']);\n",
    "plt.show()"
   ]
  },
  {
   "cell_type": "code",
   "execution_count": 51,
   "metadata": {},
   "outputs": [
    {
     "data": {
      "image/png": "[encoded data removed]",
      "text/plain": [
       "<Figure size 432x288 with 2 Axes>"
      ]
     },
     "metadata": {
      "needs_background": "light"
     },
     "output_type": "display_data"
    }
   ],
   "source": [
    "#https://stackoverflow.com/questions/61748441/how-to-fix-the-values-displayed-in-a-confusion-matrix-in-exponential-form-to-nor \n",
    "ax= plt.subplot();\n",
    "sns.heatmap(test_conf, annot=True,cmap='Blues',ax=ax);\n",
    "# labels, title and ticks\n",
    "ax.set_xlabel('Predicted labels');ax.set_ylabel('True labels'); \n",
    "ax.set_ylim(2.0, 0)\n",
    "ax.set_title('Test Confusion Matrix');\n",
    "ax.xaxis.set_ticklabels(['Negative','Positive']); \n",
    "ax.yaxis.set_ticklabels(['Negative','Positive']);\n",
    "plt.show()"
   ]
  },
  {
   "cell_type": "markdown",
   "metadata": {
    "id": "lS9hIHdib3dp"
   },
   "source": [
    "## Summary\n",
    "\n",
    "| Vectorizer | Hyperparameter | Test AUC |\n",
    "| :- | :-: | :-: |\n",
    "| BOW | 0.5 | 0.70\n",
    "| TFIDF | 0.1 | 0.70"
   ]
  }
 ],
 "metadata": {
  "colab": {
   "collapsed_sections": [],
   "name": "6_Assignment_NB_Instructions.ipynb",
   "provenance": []
  },
  "kernelspec": {
   "display_name": "Python 3",
   "language": "python",
   "name": "python3"
  },
  "language_info": {
   "codemirror_mode": {
    "name": "ipython",
    "version": 3
   },
   "file_extension": ".py",
   "mimetype": "text/x-python",
   "name": "python",
   "nbconvert_exporter": "python",
   "pygments_lexer": "ipython3",
   "version": "3.8.3"
  }
 },
 "nbformat": 4,
 "nbformat_minor": 1
}
